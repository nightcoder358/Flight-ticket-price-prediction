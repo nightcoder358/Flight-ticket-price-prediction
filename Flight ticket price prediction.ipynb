{
 "cells": [
  {
   "cell_type": "markdown",
   "id": "d91c0902",
   "metadata": {
    "papermill": {
     "duration": 0.007634,
     "end_time": "2025-07-01T07:55:08.461680",
     "exception": false,
     "start_time": "2025-07-01T07:55:08.454046",
     "status": "completed"
    },
    "tags": []
   },
   "source": [
    "# **Flight's ticket Price Prediction Model**"
   ]
  },
  {
   "cell_type": "markdown",
   "id": "86a7c508",
   "metadata": {
    "papermill": {
     "duration": 0.005873,
     "end_time": "2025-07-01T07:55:08.473922",
     "exception": false,
     "start_time": "2025-07-01T07:55:08.468049",
     "status": "completed"
    },
    "tags": []
   },
   "source": [
    "#  MLP Assignment-1 "
   ]
  },
  {
   "cell_type": "code",
   "execution_count": 1,
   "id": "f2108d63",
   "metadata": {
    "_cell_guid": "b1076dfc-b9ad-4769-8c92-a6c4dae69d19",
    "_uuid": "8f2839f25d086af736a60e9eeb907d3b93b6e0e5",
    "execution": {
     "iopub.execute_input": "2025-07-01T07:55:08.487608Z",
     "iopub.status.busy": "2025-07-01T07:55:08.487239Z",
     "iopub.status.idle": "2025-07-01T07:55:10.474194Z",
     "shell.execute_reply": "2025-07-01T07:55:10.473266Z"
    },
    "papermill": {
     "duration": 1.995956,
     "end_time": "2025-07-01T07:55:10.475991",
     "exception": false,
     "start_time": "2025-07-01T07:55:08.480035",
     "status": "completed"
    },
    "tags": []
   },
   "outputs": [
    {
     "name": "stdout",
     "output_type": "stream",
     "text": [
      "/kaggle/input/mlp-term-2-2025-kaggle-assignment-1/sample_submission.csv\n",
      "/kaggle/input/mlp-term-2-2025-kaggle-assignment-1/train.csv\n",
      "/kaggle/input/mlp-term-2-2025-kaggle-assignment-1/test.csv\n"
     ]
    }
   ],
   "source": [
    "# This Python 3 environment comes with many helpful analytics libraries installed\n",
    "# It is defined by the kaggle/python Docker image: https://github.com/kaggle/docker-python\n",
    "# For example, here's several helpful packages to load\n",
    "\n",
    "import numpy as np # linear algebra\n",
    "import pandas as pd # data processing, CSV file I/O (e.g. pd.read_csv)\n",
    "\n",
    "# Input data files are available in the read-only \"../input/\" directory\n",
    "# For example, running this (by clicking run or pressing Shift+Enter) will list all files under the input directory\n",
    "\n",
    "import os\n",
    "for dirname, _, filenames in os.walk('/kaggle/input'):\n",
    "    for filename in filenames:\n",
    "        print(os.path.join(dirname, filename))\n",
    "\n",
    "# You can write up to 20GB to the current directory (/kaggle/working/) that gets preserved as output when you create a version using \"Save & Run All\" \n",
    "# You can also write temporary files to /kaggle/temp/, but they won't be saved outside of the current session"
   ]
  },
  {
   "cell_type": "markdown",
   "id": "2ec47f7a",
   "metadata": {
    "papermill": {
     "duration": 0.005641,
     "end_time": "2025-07-01T07:55:10.487822",
     "exception": false,
     "start_time": "2025-07-01T07:55:10.482181",
     "status": "completed"
    },
    "tags": []
   },
   "source": [
    "# Importing all the essential libraries for this project"
   ]
  },
  {
   "cell_type": "code",
   "execution_count": 2,
   "id": "550e2f3e",
   "metadata": {
    "execution": {
     "iopub.execute_input": "2025-07-01T07:55:10.500877Z",
     "iopub.status.busy": "2025-07-01T07:55:10.500418Z",
     "iopub.status.idle": "2025-07-01T07:55:19.377790Z",
     "shell.execute_reply": "2025-07-01T07:55:19.376848Z"
    },
    "papermill": {
     "duration": 8.885868,
     "end_time": "2025-07-01T07:55:19.379512",
     "exception": false,
     "start_time": "2025-07-01T07:55:10.493644",
     "status": "completed"
    },
    "tags": []
   },
   "outputs": [],
   "source": [
    "# importing libraries \n",
    "import matplotlib.pyplot as plt\n",
    "import seaborn as sns\n",
    "from sklearn.model_selection import train_test_split\n",
    "from sklearn.impute import SimpleImputer\n",
    "from sklearn.preprocessing import LabelEncoder\n",
    "from sklearn.preprocessing import StandardScaler\n",
    "from sklearn.model_selection import GridSearchCV\n",
    "from sklearn.linear_model import LinearRegression, Ridge, Lasso\n",
    "from sklearn.tree import DecisionTreeRegressor\n",
    "from sklearn.ensemble import RandomForestRegressor, GradientBoostingRegressor\n",
    "from sklearn.svm import SVR\n",
    "from xgboost import XGBRegressor\n",
    "from lightgbm import LGBMRegressor\n",
    "from sklearn.neighbors import KNeighborsRegressor\n",
    "from sklearn.preprocessing import PolynomialFeatures\n",
    "from sklearn.metrics import mean_squared_error, r2_score\n",
    "from sklearn.pipeline import Pipeline"
   ]
  },
  {
   "cell_type": "code",
   "execution_count": 3,
   "id": "677f764f",
   "metadata": {
    "execution": {
     "iopub.execute_input": "2025-07-01T07:55:19.393644Z",
     "iopub.status.busy": "2025-07-01T07:55:19.392453Z",
     "iopub.status.idle": "2025-07-01T07:55:19.554929Z",
     "shell.execute_reply": "2025-07-01T07:55:19.553738Z"
    },
    "papermill": {
     "duration": 0.170918,
     "end_time": "2025-07-01T07:55:19.556632",
     "exception": false,
     "start_time": "2025-07-01T07:55:19.385714",
     "status": "completed"
    },
    "tags": []
   },
   "outputs": [
    {
     "name": "stdout",
     "output_type": "stream",
     "text": [
      "<class 'pandas.core.frame.DataFrame'>\n",
      "RangeIndex: 40000 entries, 0 to 39999\n",
      "Data columns (total 12 columns):\n",
      " #   Column       Non-Null Count  Dtype  \n",
      "---  ------       --------------  -----  \n",
      " 0   id           40000 non-null  int64  \n",
      " 1   airline      35387 non-null  object \n",
      " 2   flight       40000 non-null  object \n",
      " 3   source       40000 non-null  object \n",
      " 4   departure    35208 non-null  object \n",
      " 5   stops        37681 non-null  object \n",
      " 6   arrival      40000 non-null  object \n",
      " 7   destination  40000 non-null  object \n",
      " 8   class        40000 non-null  object \n",
      " 9   duration     36987 non-null  float64\n",
      " 10  days_left    35562 non-null  float64\n",
      " 11  price        40000 non-null  int64  \n",
      "dtypes: float64(2), int64(2), object(8)\n",
      "memory usage: 3.7+ MB\n"
     ]
    }
   ],
   "source": [
    "\n",
    "df_train = pd.read_csv(\"/kaggle/input/mlp-term-2-2025-kaggle-assignment-1/train.csv\")\n",
    "df_train.info() \n"
   ]
  },
  {
   "cell_type": "code",
   "execution_count": 4,
   "id": "a85d5752",
   "metadata": {
    "execution": {
     "iopub.execute_input": "2025-07-01T07:55:19.570286Z",
     "iopub.status.busy": "2025-07-01T07:55:19.569988Z",
     "iopub.status.idle": "2025-07-01T07:55:19.610338Z",
     "shell.execute_reply": "2025-07-01T07:55:19.609196Z"
    },
    "papermill": {
     "duration": 0.048978,
     "end_time": "2025-07-01T07:55:19.612105",
     "exception": false,
     "start_time": "2025-07-01T07:55:19.563127",
     "status": "completed"
    },
    "tags": []
   },
   "outputs": [
    {
     "name": "stdout",
     "output_type": "stream",
     "text": [
      "<class 'pandas.core.frame.DataFrame'>\n",
      "RangeIndex: 10000 entries, 0 to 9999\n",
      "Data columns (total 11 columns):\n",
      " #   Column       Non-Null Count  Dtype  \n",
      "---  ------       --------------  -----  \n",
      " 0   id           10000 non-null  int64  \n",
      " 1   airline      9452 non-null   object \n",
      " 2   flight       10000 non-null  object \n",
      " 3   source       10000 non-null  object \n",
      " 4   departure    9080 non-null   object \n",
      " 5   stops        9349 non-null   object \n",
      " 6   arrival      10000 non-null  object \n",
      " 7   destination  10000 non-null  object \n",
      " 8   class        10000 non-null  object \n",
      " 9   duration     9418 non-null   float64\n",
      " 10  days_left    9304 non-null   float64\n",
      "dtypes: float64(2), int64(1), object(8)\n",
      "memory usage: 859.5+ KB\n"
     ]
    }
   ],
   "source": [
    "df_test = pd.read_csv(\"/kaggle/input/mlp-term-2-2025-kaggle-assignment-1/test.csv\")\n",
    "df_test.info()"
   ]
  },
  {
   "cell_type": "code",
   "execution_count": 5,
   "id": "f8bd09e1",
   "metadata": {
    "execution": {
     "iopub.execute_input": "2025-07-01T07:55:19.626363Z",
     "iopub.status.busy": "2025-07-01T07:55:19.625288Z",
     "iopub.status.idle": "2025-07-01T07:55:19.670233Z",
     "shell.execute_reply": "2025-07-01T07:55:19.669423Z"
    },
    "papermill": {
     "duration": 0.053447,
     "end_time": "2025-07-01T07:55:19.671720",
     "exception": false,
     "start_time": "2025-07-01T07:55:19.618273",
     "status": "completed"
    },
    "tags": []
   },
   "outputs": [
    {
     "data": {
      "text/html": [
       "<div>\n",
       "<style scoped>\n",
       "    .dataframe tbody tr th:only-of-type {\n",
       "        vertical-align: middle;\n",
       "    }\n",
       "\n",
       "    .dataframe tbody tr th {\n",
       "        vertical-align: top;\n",
       "    }\n",
       "\n",
       "    .dataframe thead th {\n",
       "        text-align: right;\n",
       "    }\n",
       "</style>\n",
       "<table border=\"1\" class=\"dataframe\">\n",
       "  <thead>\n",
       "    <tr style=\"text-align: right;\">\n",
       "      <th></th>\n",
       "      <th>count</th>\n",
       "      <th>mean</th>\n",
       "      <th>std</th>\n",
       "      <th>min</th>\n",
       "      <th>25%</th>\n",
       "      <th>50%</th>\n",
       "      <th>75%</th>\n",
       "      <th>max</th>\n",
       "    </tr>\n",
       "  </thead>\n",
       "  <tbody>\n",
       "    <tr>\n",
       "      <th>duration</th>\n",
       "      <td>36987.0</td>\n",
       "      <td>12.004088</td>\n",
       "      <td>7.108063</td>\n",
       "      <td>0.83</td>\n",
       "      <td>6.67</td>\n",
       "      <td>11.08</td>\n",
       "      <td>15.92</td>\n",
       "      <td>47.08</td>\n",
       "    </tr>\n",
       "    <tr>\n",
       "      <th>days_left</th>\n",
       "      <td>35562.0</td>\n",
       "      <td>26.197936</td>\n",
       "      <td>13.469232</td>\n",
       "      <td>1.00</td>\n",
       "      <td>15.00</td>\n",
       "      <td>26.00</td>\n",
       "      <td>38.00</td>\n",
       "      <td>49.00</td>\n",
       "    </tr>\n",
       "    <tr>\n",
       "      <th>price</th>\n",
       "      <td>40000.0</td>\n",
       "      <td>20801.490250</td>\n",
       "      <td>22729.148420</td>\n",
       "      <td>1105.00</td>\n",
       "      <td>4687.00</td>\n",
       "      <td>7353.00</td>\n",
       "      <td>42521.00</td>\n",
       "      <td>114704.00</td>\n",
       "    </tr>\n",
       "  </tbody>\n",
       "</table>\n",
       "</div>"
      ],
      "text/plain": [
       "             count          mean           std      min      25%      50%  \\\n",
       "duration   36987.0     12.004088      7.108063     0.83     6.67    11.08   \n",
       "days_left  35562.0     26.197936     13.469232     1.00    15.00    26.00   \n",
       "price      40000.0  20801.490250  22729.148420  1105.00  4687.00  7353.00   \n",
       "\n",
       "                75%        max  \n",
       "duration      15.92      47.08  \n",
       "days_left     38.00      49.00  \n",
       "price      42521.00  114704.00  "
      ]
     },
     "execution_count": 5,
     "metadata": {},
     "output_type": "execute_result"
    }
   ],
   "source": [
    "df_train.drop(columns=[\"id\"]).describe().T"
   ]
  },
  {
   "cell_type": "code",
   "execution_count": 6,
   "id": "d575e704",
   "metadata": {
    "execution": {
     "iopub.execute_input": "2025-07-01T07:55:19.685693Z",
     "iopub.status.busy": "2025-07-01T07:55:19.685334Z",
     "iopub.status.idle": "2025-07-01T07:55:19.714953Z",
     "shell.execute_reply": "2025-07-01T07:55:19.713919Z"
    },
    "papermill": {
     "duration": 0.038247,
     "end_time": "2025-07-01T07:55:19.716498",
     "exception": false,
     "start_time": "2025-07-01T07:55:19.678251",
     "status": "completed"
    },
    "tags": []
   },
   "outputs": [
    {
     "name": "stdout",
     "output_type": "stream",
     "text": [
      "id                0\n",
      "airline        4613\n",
      "flight            0\n",
      "source            0\n",
      "departure      4792\n",
      "stops          2319\n",
      "arrival           0\n",
      "destination       0\n",
      "class             0\n",
      "duration       3013\n",
      "days_left      4438\n",
      "price             0\n",
      "dtype: int64\n",
      "****************************************\n",
      "id               0\n",
      "airline        548\n",
      "flight           0\n",
      "source           0\n",
      "departure      920\n",
      "stops          651\n",
      "arrival          0\n",
      "destination      0\n",
      "class            0\n",
      "duration       582\n",
      "days_left      696\n",
      "dtype: int64\n"
     ]
    }
   ],
   "source": [
    "print(df_train.isna().sum())\n",
    "print(\"*\"*40)\n",
    "print(df_test.isna().sum())"
   ]
  },
  {
   "cell_type": "code",
   "execution_count": 7,
   "id": "92b8b6f6",
   "metadata": {
    "execution": {
     "iopub.execute_input": "2025-07-01T07:55:19.730552Z",
     "iopub.status.busy": "2025-07-01T07:55:19.730241Z",
     "iopub.status.idle": "2025-07-01T07:55:19.773640Z",
     "shell.execute_reply": "2025-07-01T07:55:19.772538Z"
    },
    "papermill": {
     "duration": 0.052215,
     "end_time": "2025-07-01T07:55:19.775364",
     "exception": false,
     "start_time": "2025-07-01T07:55:19.723149",
     "status": "completed"
    },
    "tags": []
   },
   "outputs": [],
   "source": [
    "for data in [df_train, df_test]:\n",
    "    for col in data.columns:\n",
    "        if data[col].dtype == 'object':\n",
    "            data[col] = data[col].fillna(\"Unknown\")\n",
    "        else:\n",
    "            data[col] = data[col].fillna(data[col].median())"
   ]
  },
  {
   "cell_type": "code",
   "execution_count": 8,
   "id": "080cf1db",
   "metadata": {
    "execution": {
     "iopub.execute_input": "2025-07-01T07:55:19.789164Z",
     "iopub.status.busy": "2025-07-01T07:55:19.788844Z",
     "iopub.status.idle": "2025-07-01T07:55:19.818970Z",
     "shell.execute_reply": "2025-07-01T07:55:19.818014Z"
    },
    "papermill": {
     "duration": 0.038805,
     "end_time": "2025-07-01T07:55:19.820607",
     "exception": false,
     "start_time": "2025-07-01T07:55:19.781802",
     "status": "completed"
    },
    "tags": []
   },
   "outputs": [
    {
     "name": "stdout",
     "output_type": "stream",
     "text": [
      "id             0\n",
      "airline        0\n",
      "flight         0\n",
      "source         0\n",
      "departure      0\n",
      "stops          0\n",
      "arrival        0\n",
      "destination    0\n",
      "class          0\n",
      "duration       0\n",
      "days_left      0\n",
      "price          0\n",
      "dtype: int64\n",
      "****************************************\n",
      "id             0\n",
      "airline        0\n",
      "flight         0\n",
      "source         0\n",
      "departure      0\n",
      "stops          0\n",
      "arrival        0\n",
      "destination    0\n",
      "class          0\n",
      "duration       0\n",
      "days_left      0\n",
      "dtype: int64\n"
     ]
    }
   ],
   "source": [
    "print(df_train.isna().sum())\n",
    "print(\"*\"*40)\n",
    "print(df_test.isna().sum())"
   ]
  },
  {
   "cell_type": "code",
   "execution_count": 9,
   "id": "5073e1e0",
   "metadata": {
    "execution": {
     "iopub.execute_input": "2025-07-01T07:55:19.834461Z",
     "iopub.status.busy": "2025-07-01T07:55:19.834142Z",
     "iopub.status.idle": "2025-07-01T07:55:19.867891Z",
     "shell.execute_reply": "2025-07-01T07:55:19.866897Z"
    },
    "papermill": {
     "duration": 0.042345,
     "end_time": "2025-07-01T07:55:19.869420",
     "exception": false,
     "start_time": "2025-07-01T07:55:19.827075",
     "status": "completed"
    },
    "tags": []
   },
   "outputs": [
    {
     "data": {
      "text/plain": [
       "(39339, 12)"
      ]
     },
     "execution_count": 9,
     "metadata": {},
     "output_type": "execute_result"
    }
   ],
   "source": [
    "df_train = df_train.drop_duplicates(subset=df_train.columns.difference(['id', 'price']))\n",
    "df_train.shape"
   ]
  },
  {
   "cell_type": "code",
   "execution_count": 10,
   "id": "f886010a",
   "metadata": {
    "execution": {
     "iopub.execute_input": "2025-07-01T07:55:19.883691Z",
     "iopub.status.busy": "2025-07-01T07:55:19.883228Z",
     "iopub.status.idle": "2025-07-01T07:55:19.913476Z",
     "shell.execute_reply": "2025-07-01T07:55:19.912591Z"
    },
    "papermill": {
     "duration": 0.039314,
     "end_time": "2025-07-01T07:55:19.915161",
     "exception": false,
     "start_time": "2025-07-01T07:55:19.875847",
     "status": "completed"
    },
    "tags": []
   },
   "outputs": [],
   "source": [
    "for data in [df_train, df_test]:\n",
    "    for col in data.columns:\n",
    "        if data[col].dtype != 'object':\n",
    "            Q1 = data[col].quantile(0.25)\n",
    "            Q3 = data[col].quantile(0.75)\n",
    "            IQR = Q3 - Q1\n",
    "            lower_bound = Q1 - 1.5 * IQR\n",
    "            upper_bound = Q3 + 1.5 * IQR\n",
    "\n",
    "            data[col] = data[col].clip(lower=lower_bound, upper=upper_bound)"
   ]
  },
  {
   "cell_type": "markdown",
   "id": "822226cc",
   "metadata": {
    "papermill": {
     "duration": 0.006179,
     "end_time": "2025-07-01T07:55:19.927902",
     "exception": false,
     "start_time": "2025-07-01T07:55:19.921723",
     "status": "completed"
    },
    "tags": []
   },
   "source": [
    "# **Data Visualization**"
   ]
  },
  {
   "cell_type": "code",
   "execution_count": 11,
   "id": "10f5f043",
   "metadata": {
    "execution": {
     "iopub.execute_input": "2025-07-01T07:55:19.941755Z",
     "iopub.status.busy": "2025-07-01T07:55:19.941393Z",
     "iopub.status.idle": "2025-07-01T07:55:20.487900Z",
     "shell.execute_reply": "2025-07-01T07:55:20.486902Z"
    },
    "papermill": {
     "duration": 0.555588,
     "end_time": "2025-07-01T07:55:20.489756",
     "exception": false,
     "start_time": "2025-07-01T07:55:19.934168",
     "status": "completed"
    },
    "tags": []
   },
   "outputs": [
    {
     "data": {
      "image/png": "[encoded data removed]",
      "text/plain": [
       "<Figure size 640x480 with 1 Axes>"
      ]
     },
     "metadata": {},
     "output_type": "display_data"
    }
   ],
   "source": [
    "import warnings\n",
    "\n",
    "with warnings.catch_warnings():\n",
    "    warnings.simplefilter(\"ignore\", category=FutureWarning)\n",
    "    sns.histplot(df_train['price'], bins=30, kde=True)\n",
    "    plt.title(\"Price Distribution\")\n",
    "    plt.show()"
   ]
  },
  {
   "cell_type": "code",
   "execution_count": 12,
   "id": "b54e3f64",
   "metadata": {
    "execution": {
     "iopub.execute_input": "2025-07-01T07:55:20.512958Z",
     "iopub.status.busy": "2025-07-01T07:55:20.512503Z",
     "iopub.status.idle": "2025-07-01T07:55:20.748685Z",
     "shell.execute_reply": "2025-07-01T07:55:20.747649Z"
    },
    "papermill": {
     "duration": 0.248576,
     "end_time": "2025-07-01T07:55:20.750369",
     "exception": false,
     "start_time": "2025-07-01T07:55:20.501793",
     "status": "completed"
    },
    "tags": []
   },
   "outputs": [
    {
     "data": {
      "image/png": "[encoded data removed]",
      "text/plain": [
       "<Figure size 640x480 with 1 Axes>"
      ]
     },
     "metadata": {},
     "output_type": "display_data"
    }
   ],
   "source": [
    "sns.boxplot(x='airline', y='price', data=df_train)\n",
    "plt.xticks()\n",
    "plt.title(\"Price by Airline\")\n",
    "plt.show()"
   ]
  },
  {
   "cell_type": "code",
   "execution_count": 13,
   "id": "4d865671",
   "metadata": {
    "execution": {
     "iopub.execute_input": "2025-07-01T07:55:20.767472Z",
     "iopub.status.busy": "2025-07-01T07:55:20.766747Z",
     "iopub.status.idle": "2025-07-01T07:55:20.993520Z",
     "shell.execute_reply": "2025-07-01T07:55:20.992331Z"
    },
    "papermill": {
     "duration": 0.237305,
     "end_time": "2025-07-01T07:55:20.995510",
     "exception": false,
     "start_time": "2025-07-01T07:55:20.758205",
     "status": "completed"
    },
    "tags": []
   },
   "outputs": [
    {
     "data": {
      "image/png": "[encoded data removed]",
      "text/plain": [
       "<Figure size 640x480 with 1 Axes>"
      ]
     },
     "metadata": {},
     "output_type": "display_data"
    }
   ],
   "source": [
    "sns.boxplot(x='stops', y='price', data=df_train)\n",
    "plt.title(\"Price by Number of Stops\")\n",
    "plt.show()"
   ]
  },
  {
   "cell_type": "code",
   "execution_count": 14,
   "id": "fa334e4e",
   "metadata": {
    "execution": {
     "iopub.execute_input": "2025-07-01T07:55:21.019520Z",
     "iopub.status.busy": "2025-07-01T07:55:21.019098Z",
     "iopub.status.idle": "2025-07-01T07:55:27.122793Z",
     "shell.execute_reply": "2025-07-01T07:55:27.121716Z"
    },
    "papermill": {
     "duration": 6.115205,
     "end_time": "2025-07-01T07:55:27.124821",
     "exception": false,
     "start_time": "2025-07-01T07:55:21.009616",
     "status": "completed"
    },
    "tags": []
   },
   "outputs": [
    {
     "data": {
      "image/png": "[encoded data removed]",
      "text/plain": [
       "<Figure size 640x480 with 1 Axes>"
      ]
     },
     "metadata": {},
     "output_type": "display_data"
    }
   ],
   "source": [
    "df_train_filtered = df_train[df_train['airline'] != 'Unknown']\n",
    "warnings.simplefilter(\"ignore\", category=FutureWarning)\n",
    "# Line plot: Avg Price vs Days Left by Airline (excluding Unknown)\n",
    "sns.lineplot(data=df_train_filtered, x='days_left', y='price', hue='airline', estimator='mean')\n",
    "plt.title(\"Avg Price vs Days Left by Airline (Excluding Unknown)\")\n",
    "plt.xlabel(\"Days Left\")\n",
    "plt.ylabel(\"Average Price\")\n",
    "plt.show()"
   ]
  },
  {
   "cell_type": "code",
   "execution_count": 15,
   "id": "d282eaf1",
   "metadata": {
    "execution": {
     "iopub.execute_input": "2025-07-01T07:55:27.146303Z",
     "iopub.status.busy": "2025-07-01T07:55:27.145965Z",
     "iopub.status.idle": "2025-07-01T07:55:27.159984Z",
     "shell.execute_reply": "2025-07-01T07:55:27.159149Z"
    },
    "papermill": {
     "duration": 0.025993,
     "end_time": "2025-07-01T07:55:27.161370",
     "exception": false,
     "start_time": "2025-07-01T07:55:27.135377",
     "status": "completed"
    },
    "tags": []
   },
   "outputs": [
    {
     "data": {
      "text/html": [
       "<div>\n",
       "<style scoped>\n",
       "    .dataframe tbody tr th:only-of-type {\n",
       "        vertical-align: middle;\n",
       "    }\n",
       "\n",
       "    .dataframe tbody tr th {\n",
       "        vertical-align: top;\n",
       "    }\n",
       "\n",
       "    .dataframe thead th {\n",
       "        text-align: right;\n",
       "    }\n",
       "</style>\n",
       "<table border=\"1\" class=\"dataframe\">\n",
       "  <thead>\n",
       "    <tr style=\"text-align: right;\">\n",
       "      <th></th>\n",
       "      <th>id</th>\n",
       "      <th>airline</th>\n",
       "      <th>flight</th>\n",
       "      <th>source</th>\n",
       "      <th>departure</th>\n",
       "      <th>stops</th>\n",
       "      <th>arrival</th>\n",
       "      <th>destination</th>\n",
       "      <th>class</th>\n",
       "      <th>duration</th>\n",
       "      <th>days_left</th>\n",
       "      <th>price</th>\n",
       "    </tr>\n",
       "  </thead>\n",
       "  <tbody>\n",
       "    <tr>\n",
       "      <th>0</th>\n",
       "      <td>0</td>\n",
       "      <td>Vistara</td>\n",
       "      <td>UK-930</td>\n",
       "      <td>Mumbai</td>\n",
       "      <td>Early_Morning</td>\n",
       "      <td>one</td>\n",
       "      <td>Night</td>\n",
       "      <td>Chennai</td>\n",
       "      <td>Business</td>\n",
       "      <td>11.08</td>\n",
       "      <td>40.0</td>\n",
       "      <td>64173</td>\n",
       "    </tr>\n",
       "    <tr>\n",
       "      <th>1</th>\n",
       "      <td>1</td>\n",
       "      <td>Air_India</td>\n",
       "      <td>AI-539</td>\n",
       "      <td>Chennai</td>\n",
       "      <td>Evening</td>\n",
       "      <td>one</td>\n",
       "      <td>Morning</td>\n",
       "      <td>Mumbai</td>\n",
       "      <td>Economy</td>\n",
       "      <td>16.08</td>\n",
       "      <td>26.0</td>\n",
       "      <td>4357</td>\n",
       "    </tr>\n",
       "    <tr>\n",
       "      <th>2</th>\n",
       "      <td>2</td>\n",
       "      <td>SpiceJet</td>\n",
       "      <td>SG-8107</td>\n",
       "      <td>Delhi</td>\n",
       "      <td>Early_Morning</td>\n",
       "      <td>zero</td>\n",
       "      <td>Morning</td>\n",
       "      <td>Chennai</td>\n",
       "      <td>Economy</td>\n",
       "      <td>2.92</td>\n",
       "      <td>25.0</td>\n",
       "      <td>3251</td>\n",
       "    </tr>\n",
       "    <tr>\n",
       "      <th>3</th>\n",
       "      <td>3</td>\n",
       "      <td>Unknown</td>\n",
       "      <td>0.00E+00</td>\n",
       "      <td>Hyderabad</td>\n",
       "      <td>Early_Morning</td>\n",
       "      <td>zero</td>\n",
       "      <td>Morning</td>\n",
       "      <td>Bangalore</td>\n",
       "      <td>Economy</td>\n",
       "      <td>1.50</td>\n",
       "      <td>22.0</td>\n",
       "      <td>1776</td>\n",
       "    </tr>\n",
       "    <tr>\n",
       "      <th>4</th>\n",
       "      <td>4</td>\n",
       "      <td>Air_India</td>\n",
       "      <td>AI-569</td>\n",
       "      <td>Chennai</td>\n",
       "      <td>Early_Morning</td>\n",
       "      <td>one</td>\n",
       "      <td>Morning</td>\n",
       "      <td>Bangalore</td>\n",
       "      <td>Economy</td>\n",
       "      <td>4.83</td>\n",
       "      <td>20.0</td>\n",
       "      <td>3584</td>\n",
       "    </tr>\n",
       "  </tbody>\n",
       "</table>\n",
       "</div>"
      ],
      "text/plain": [
       "   id    airline    flight     source      departure stops  arrival  \\\n",
       "0   0    Vistara    UK-930     Mumbai  Early_Morning   one    Night   \n",
       "1   1  Air_India    AI-539    Chennai        Evening   one  Morning   \n",
       "2   2   SpiceJet   SG-8107      Delhi  Early_Morning  zero  Morning   \n",
       "3   3    Unknown  0.00E+00  Hyderabad  Early_Morning  zero  Morning   \n",
       "4   4  Air_India    AI-569    Chennai  Early_Morning   one  Morning   \n",
       "\n",
       "  destination     class  duration  days_left  price  \n",
       "0     Chennai  Business     11.08       40.0  64173  \n",
       "1      Mumbai   Economy     16.08       26.0   4357  \n",
       "2     Chennai   Economy      2.92       25.0   3251  \n",
       "3   Bangalore   Economy      1.50       22.0   1776  \n",
       "4   Bangalore   Economy      4.83       20.0   3584  "
      ]
     },
     "execution_count": 15,
     "metadata": {},
     "output_type": "execute_result"
    }
   ],
   "source": [
    "df_train.head()"
   ]
  },
  {
   "cell_type": "code",
   "execution_count": 16,
   "id": "48a83d44",
   "metadata": {
    "execution": {
     "iopub.execute_input": "2025-07-01T07:55:27.182447Z",
     "iopub.status.busy": "2025-07-01T07:55:27.182163Z",
     "iopub.status.idle": "2025-07-01T07:55:27.277210Z",
     "shell.execute_reply": "2025-07-01T07:55:27.276378Z"
    },
    "papermill": {
     "duration": 0.107531,
     "end_time": "2025-07-01T07:55:27.278991",
     "exception": false,
     "start_time": "2025-07-01T07:55:27.171460",
     "status": "completed"
    },
    "tags": []
   },
   "outputs": [],
   "source": [
    "# Separate features and target\n",
    "df_train[\"airline_code\"] = df_train[\"flight\"].astype(str).str.extract(r\"^([A-Z]{1,3})\")\n",
    "df_train['airline_code'] = df_train['airline_code'].fillna('unknown')\n",
    "df_test[\"airline_code\"] = df_test[\"flight\"].astype(str).str.extract(r\"^([A-Z]{1,3})\")\n",
    "df_test['airline_code'] = df_test['airline_code'].fillna('unknown')\n",
    "df_train = df_train.drop(\"flight\",axis=1)\n",
    "df_test = df_test.drop(\"flight\",axis=1)\n",
    "X = df_train.drop(['price', 'id'], axis=1)\n",
    "y = df_train['price']\n",
    "test_ids = df_test['id']\n",
    "df_test = df_test.drop('id', axis=1)\n",
    "\n",
    "# Split train into train/val\n",
    "X_train, X_test, y_train, y_test = train_test_split(X, y, test_size=0.2, random_state=42)"
   ]
  },
  {
   "cell_type": "code",
   "execution_count": 17,
   "id": "4da2945a",
   "metadata": {
    "execution": {
     "iopub.execute_input": "2025-07-01T07:55:27.300336Z",
     "iopub.status.busy": "2025-07-01T07:55:27.300053Z",
     "iopub.status.idle": "2025-07-01T07:55:27.304349Z",
     "shell.execute_reply": "2025-07-01T07:55:27.303695Z"
    },
    "papermill": {
     "duration": 0.016607,
     "end_time": "2025-07-01T07:55:27.305808",
     "exception": false,
     "start_time": "2025-07-01T07:55:27.289201",
     "status": "completed"
    },
    "tags": []
   },
   "outputs": [],
   "source": [
    "num_cols = ['duration', 'days_left']\n",
    "cat_cols = ['airline','airline_code','source','destination', 'departure', 'arrival', 'class', 'stops']"
   ]
  },
  {
   "cell_type": "code",
   "execution_count": 18,
   "id": "61e9684f",
   "metadata": {
    "execution": {
     "iopub.execute_input": "2025-07-01T07:55:27.327763Z",
     "iopub.status.busy": "2025-07-01T07:55:27.327405Z",
     "iopub.status.idle": "2025-07-01T07:55:27.341455Z",
     "shell.execute_reply": "2025-07-01T07:55:27.340557Z"
    },
    "papermill": {
     "duration": 0.027082,
     "end_time": "2025-07-01T07:55:27.343034",
     "exception": false,
     "start_time": "2025-07-01T07:55:27.315952",
     "status": "completed"
    },
    "tags": []
   },
   "outputs": [
    {
     "data": {
      "text/html": [
       "<div>\n",
       "<style scoped>\n",
       "    .dataframe tbody tr th:only-of-type {\n",
       "        vertical-align: middle;\n",
       "    }\n",
       "\n",
       "    .dataframe tbody tr th {\n",
       "        vertical-align: top;\n",
       "    }\n",
       "\n",
       "    .dataframe thead th {\n",
       "        text-align: right;\n",
       "    }\n",
       "</style>\n",
       "<table border=\"1\" class=\"dataframe\">\n",
       "  <thead>\n",
       "    <tr style=\"text-align: right;\">\n",
       "      <th></th>\n",
       "      <th>id</th>\n",
       "      <th>airline</th>\n",
       "      <th>source</th>\n",
       "      <th>departure</th>\n",
       "      <th>stops</th>\n",
       "      <th>arrival</th>\n",
       "      <th>destination</th>\n",
       "      <th>class</th>\n",
       "      <th>duration</th>\n",
       "      <th>days_left</th>\n",
       "      <th>price</th>\n",
       "      <th>airline_code</th>\n",
       "    </tr>\n",
       "  </thead>\n",
       "  <tbody>\n",
       "    <tr>\n",
       "      <th>0</th>\n",
       "      <td>0</td>\n",
       "      <td>Vistara</td>\n",
       "      <td>Mumbai</td>\n",
       "      <td>Early_Morning</td>\n",
       "      <td>one</td>\n",
       "      <td>Night</td>\n",
       "      <td>Chennai</td>\n",
       "      <td>Business</td>\n",
       "      <td>11.08</td>\n",
       "      <td>40.0</td>\n",
       "      <td>64173</td>\n",
       "      <td>UK</td>\n",
       "    </tr>\n",
       "    <tr>\n",
       "      <th>1</th>\n",
       "      <td>1</td>\n",
       "      <td>Air_India</td>\n",
       "      <td>Chennai</td>\n",
       "      <td>Evening</td>\n",
       "      <td>one</td>\n",
       "      <td>Morning</td>\n",
       "      <td>Mumbai</td>\n",
       "      <td>Economy</td>\n",
       "      <td>16.08</td>\n",
       "      <td>26.0</td>\n",
       "      <td>4357</td>\n",
       "      <td>AI</td>\n",
       "    </tr>\n",
       "    <tr>\n",
       "      <th>2</th>\n",
       "      <td>2</td>\n",
       "      <td>SpiceJet</td>\n",
       "      <td>Delhi</td>\n",
       "      <td>Early_Morning</td>\n",
       "      <td>zero</td>\n",
       "      <td>Morning</td>\n",
       "      <td>Chennai</td>\n",
       "      <td>Economy</td>\n",
       "      <td>2.92</td>\n",
       "      <td>25.0</td>\n",
       "      <td>3251</td>\n",
       "      <td>SG</td>\n",
       "    </tr>\n",
       "    <tr>\n",
       "      <th>3</th>\n",
       "      <td>3</td>\n",
       "      <td>Unknown</td>\n",
       "      <td>Hyderabad</td>\n",
       "      <td>Early_Morning</td>\n",
       "      <td>zero</td>\n",
       "      <td>Morning</td>\n",
       "      <td>Bangalore</td>\n",
       "      <td>Economy</td>\n",
       "      <td>1.50</td>\n",
       "      <td>22.0</td>\n",
       "      <td>1776</td>\n",
       "      <td>unknown</td>\n",
       "    </tr>\n",
       "    <tr>\n",
       "      <th>4</th>\n",
       "      <td>4</td>\n",
       "      <td>Air_India</td>\n",
       "      <td>Chennai</td>\n",
       "      <td>Early_Morning</td>\n",
       "      <td>one</td>\n",
       "      <td>Morning</td>\n",
       "      <td>Bangalore</td>\n",
       "      <td>Economy</td>\n",
       "      <td>4.83</td>\n",
       "      <td>20.0</td>\n",
       "      <td>3584</td>\n",
       "      <td>AI</td>\n",
       "    </tr>\n",
       "  </tbody>\n",
       "</table>\n",
       "</div>"
      ],
      "text/plain": [
       "   id    airline     source      departure stops  arrival destination  \\\n",
       "0   0    Vistara     Mumbai  Early_Morning   one    Night     Chennai   \n",
       "1   1  Air_India    Chennai        Evening   one  Morning      Mumbai   \n",
       "2   2   SpiceJet      Delhi  Early_Morning  zero  Morning     Chennai   \n",
       "3   3    Unknown  Hyderabad  Early_Morning  zero  Morning   Bangalore   \n",
       "4   4  Air_India    Chennai  Early_Morning   one  Morning   Bangalore   \n",
       "\n",
       "      class  duration  days_left  price airline_code  \n",
       "0  Business     11.08       40.0  64173           UK  \n",
       "1   Economy     16.08       26.0   4357           AI  \n",
       "2   Economy      2.92       25.0   3251           SG  \n",
       "3   Economy      1.50       22.0   1776      unknown  \n",
       "4   Economy      4.83       20.0   3584           AI  "
      ]
     },
     "execution_count": 18,
     "metadata": {},
     "output_type": "execute_result"
    }
   ],
   "source": [
    "df_train.head()"
   ]
  },
  {
   "cell_type": "code",
   "execution_count": 19,
   "id": "009dce74",
   "metadata": {
    "execution": {
     "iopub.execute_input": "2025-07-01T07:55:27.365562Z",
     "iopub.status.busy": "2025-07-01T07:55:27.365259Z",
     "iopub.status.idle": "2025-07-01T07:55:34.254799Z",
     "shell.execute_reply": "2025-07-01T07:55:34.253752Z"
    },
    "papermill": {
     "duration": 6.902693,
     "end_time": "2025-07-01T07:55:34.256544",
     "exception": false,
     "start_time": "2025-07-01T07:55:27.353851",
     "status": "completed"
    },
    "tags": []
   },
   "outputs": [],
   "source": [
    "encoders = {}\n",
    "\n",
    "for col in cat_cols:\n",
    "    le = LabelEncoder()\n",
    "    le.fit(X_train[col])  # Fit only on training data\n",
    "    \n",
    "    X_train[col] = le.transform(X_train[col])\n",
    "    X_test[col] = X_test[col].apply(lambda x: le.transform([x])[0] if x in le.classes_ else -1)\n",
    "    df_test[col] = df_test[col].apply(lambda x: le.transform([x])[0] if x in le.classes_ else -1)\n",
    "    \n",
    "    encoders[col] = le\n"
   ]
  },
  {
   "cell_type": "code",
   "execution_count": 20,
   "id": "957c9c97",
   "metadata": {
    "execution": {
     "iopub.execute_input": "2025-07-01T07:55:34.278306Z",
     "iopub.status.busy": "2025-07-01T07:55:34.277994Z",
     "iopub.status.idle": "2025-07-01T07:55:34.301556Z",
     "shell.execute_reply": "2025-07-01T07:55:34.300626Z"
    },
    "papermill": {
     "duration": 0.03626,
     "end_time": "2025-07-01T07:55:34.303249",
     "exception": false,
     "start_time": "2025-07-01T07:55:34.266989",
     "status": "completed"
    },
    "tags": []
   },
   "outputs": [],
   "source": [
    "scaler = StandardScaler()\n",
    "X_train[num_cols] = scaler.fit_transform(X_train[num_cols])\n",
    "X_test[num_cols] = scaler.transform(X_test[num_cols])\n",
    "df_test[num_cols] = scaler.transform(df_test[num_cols])"
   ]
  },
  {
   "cell_type": "code",
   "execution_count": 21,
   "id": "dba20510",
   "metadata": {
    "execution": {
     "iopub.execute_input": "2025-07-01T07:55:34.324822Z",
     "iopub.status.busy": "2025-07-01T07:55:34.324475Z",
     "iopub.status.idle": "2025-07-01T07:55:34.336436Z",
     "shell.execute_reply": "2025-07-01T07:55:34.335475Z"
    },
    "papermill": {
     "duration": 0.024634,
     "end_time": "2025-07-01T07:55:34.338147",
     "exception": false,
     "start_time": "2025-07-01T07:55:34.313513",
     "status": "completed"
    },
    "tags": []
   },
   "outputs": [
    {
     "data": {
      "text/html": [
       "<div>\n",
       "<style scoped>\n",
       "    .dataframe tbody tr th:only-of-type {\n",
       "        vertical-align: middle;\n",
       "    }\n",
       "\n",
       "    .dataframe tbody tr th {\n",
       "        vertical-align: top;\n",
       "    }\n",
       "\n",
       "    .dataframe thead th {\n",
       "        text-align: right;\n",
       "    }\n",
       "</style>\n",
       "<table border=\"1\" class=\"dataframe\">\n",
       "  <thead>\n",
       "    <tr style=\"text-align: right;\">\n",
       "      <th></th>\n",
       "      <th>airline</th>\n",
       "      <th>source</th>\n",
       "      <th>departure</th>\n",
       "      <th>stops</th>\n",
       "      <th>arrival</th>\n",
       "      <th>destination</th>\n",
       "      <th>class</th>\n",
       "      <th>duration</th>\n",
       "      <th>days_left</th>\n",
       "      <th>airline_code</th>\n",
       "    </tr>\n",
       "  </thead>\n",
       "  <tbody>\n",
       "    <tr>\n",
       "      <th>25883</th>\n",
       "      <td>6</td>\n",
       "      <td>2</td>\n",
       "      <td>2</td>\n",
       "      <td>1</td>\n",
       "      <td>1</td>\n",
       "      <td>3</td>\n",
       "      <td>1</td>\n",
       "      <td>0.319959</td>\n",
       "      <td>-0.089356</td>\n",
       "      <td>4</td>\n",
       "    </tr>\n",
       "    <tr>\n",
       "      <th>31551</th>\n",
       "      <td>5</td>\n",
       "      <td>3</td>\n",
       "      <td>1</td>\n",
       "      <td>1</td>\n",
       "      <td>2</td>\n",
       "      <td>4</td>\n",
       "      <td>1</td>\n",
       "      <td>-0.125933</td>\n",
       "      <td>-0.011326</td>\n",
       "      <td>1</td>\n",
       "    </tr>\n",
       "    <tr>\n",
       "      <th>34912</th>\n",
       "      <td>1</td>\n",
       "      <td>1</td>\n",
       "      <td>5</td>\n",
       "      <td>1</td>\n",
       "      <td>2</td>\n",
       "      <td>5</td>\n",
       "      <td>1</td>\n",
       "      <td>1.745328</td>\n",
       "      <td>0.378822</td>\n",
       "      <td>0</td>\n",
       "    </tr>\n",
       "    <tr>\n",
       "      <th>38570</th>\n",
       "      <td>6</td>\n",
       "      <td>3</td>\n",
       "      <td>5</td>\n",
       "      <td>1</td>\n",
       "      <td>4</td>\n",
       "      <td>2</td>\n",
       "      <td>0</td>\n",
       "      <td>-0.137823</td>\n",
       "      <td>-0.245415</td>\n",
       "      <td>4</td>\n",
       "    </tr>\n",
       "    <tr>\n",
       "      <th>11886</th>\n",
       "      <td>6</td>\n",
       "      <td>3</td>\n",
       "      <td>5</td>\n",
       "      <td>1</td>\n",
       "      <td>2</td>\n",
       "      <td>1</td>\n",
       "      <td>1</td>\n",
       "      <td>1.546163</td>\n",
       "      <td>-1.493888</td>\n",
       "      <td>4</td>\n",
       "    </tr>\n",
       "  </tbody>\n",
       "</table>\n",
       "</div>"
      ],
      "text/plain": [
       "       airline  source  departure  stops  arrival  destination  class  \\\n",
       "25883        6       2          2      1        1            3      1   \n",
       "31551        5       3          1      1        2            4      1   \n",
       "34912        1       1          5      1        2            5      1   \n",
       "38570        6       3          5      1        4            2      0   \n",
       "11886        6       3          5      1        2            1      1   \n",
       "\n",
       "       duration  days_left  airline_code  \n",
       "25883  0.319959  -0.089356             4  \n",
       "31551 -0.125933  -0.011326             1  \n",
       "34912  1.745328   0.378822             0  \n",
       "38570 -0.137823  -0.245415             4  \n",
       "11886  1.546163  -1.493888             4  "
      ]
     },
     "execution_count": 21,
     "metadata": {},
     "output_type": "execute_result"
    }
   ],
   "source": [
    "X_train.head()"
   ]
  },
  {
   "cell_type": "markdown",
   "id": "16fcdffb",
   "metadata": {
    "papermill": {
     "duration": 0.010501,
     "end_time": "2025-07-01T07:55:34.359025",
     "exception": false,
     "start_time": "2025-07-01T07:55:34.348524",
     "status": "completed"
    },
    "tags": []
   },
   "source": [
    "# **Data Modelling**"
   ]
  },
  {
   "cell_type": "code",
   "execution_count": 22,
   "id": "ce512b81",
   "metadata": {
    "execution": {
     "iopub.execute_input": "2025-07-01T07:55:34.381100Z",
     "iopub.status.busy": "2025-07-01T07:55:34.380815Z",
     "iopub.status.idle": "2025-07-01T07:55:44.326080Z",
     "shell.execute_reply": "2025-07-01T07:55:44.323725Z"
    },
    "papermill": {
     "duration": 9.958901,
     "end_time": "2025-07-01T07:55:44.328161",
     "exception": false,
     "start_time": "2025-07-01T07:55:34.369260",
     "status": "completed"
    },
    "tags": []
   },
   "outputs": [
    {
     "name": "stdout",
     "output_type": "stream",
     "text": [
      "--- Training Linear Regression ---\n",
      "RMSE: 7095.87\n",
      "R2: 0.9017\n",
      "\n",
      "--- Training Ridge Regression ---\n",
      "RMSE: 7095.83\n",
      "R2: 0.9017\n",
      "\n",
      "--- Training Lasso Regression ---\n",
      "RMSE: 7095.84\n",
      "R2: 0.9017\n",
      "\n",
      "--- Training Decision Tree Regressor ---\n",
      "RMSE: 4889.79\n",
      "R2: 0.9533\n",
      "\n",
      "--- Training Random Forest Regressor ---\n",
      "RMSE: 3758.76\n",
      "R2: 0.9724\n",
      "\n",
      "--- Training Gradient Boosting Regressor ---\n",
      "RMSE: 5121.20\n",
      "R2: 0.9488\n",
      "\n",
      "--- Training XGBoost Regressor ---\n",
      "RMSE: 3882.37\n",
      "R2: 0.9706\n",
      "\n",
      "--- Training LightGBM Regressor ---\n",
      "RMSE: 4239.50\n",
      "R2: 0.9649\n",
      "\n",
      "--- Training Polynomial Regression (deg=3) ---\n",
      "RMSE: 5418.11\n",
      "R2: 0.9427\n",
      "\n"
     ]
    }
   ],
   "source": [
    "from sklearn.linear_model import LinearRegression, Ridge, Lasso\n",
    "from sklearn.tree import DecisionTreeRegressor\n",
    "from sklearn.ensemble import RandomForestRegressor, GradientBoostingRegressor\n",
    "from sklearn.svm import SVR\n",
    "from xgboost import XGBRegressor\n",
    "from lightgbm import LGBMRegressor\n",
    "from sklearn.neighbors import KNeighborsRegressor\n",
    "from sklearn.preprocessing import PolynomialFeatures\n",
    "from sklearn.metrics import mean_squared_error, r2_score\n",
    "from sklearn.pipeline import Pipeline\n",
    "\n",
    "# === Step 1: Define Raw Models ===\n",
    "models = {\n",
    "    \"Linear Regression\": LinearRegression(),\n",
    "    \"Ridge Regression\": Ridge(random_state=42),\n",
    "    \"Lasso Regression\": Lasso(random_state=42),\n",
    "    \"Decision Tree Regressor\": DecisionTreeRegressor(random_state=42),\n",
    "    \"Random Forest Regressor\": RandomForestRegressor(random_state=42, n_jobs=-1),\n",
    "    \"Gradient Boosting Regressor\": GradientBoostingRegressor(random_state=42),\n",
    "    \"XGBoost Regressor\": XGBRegressor(random_state=42, n_jobs=-1,n_estimators=1000,learning_rate=0.05),\n",
    "    \"LightGBM Regressor\": LGBMRegressor(random_state=42, n_jobs=-1, verbosity=-1),\n",
    "}\n",
    "\n",
    "# === Step 2: Polynomial Regression Pipelines ===\n",
    "poly2 = Pipeline([\n",
    "    ('poly_features', PolynomialFeatures(degree=2, include_bias=False)),\n",
    "    ('regressor', LinearRegression())\n",
    "])\n",
    "\n",
    "poly3 = Pipeline([\n",
    "    ('poly_features', PolynomialFeatures(degree=3, include_bias=False)),\n",
    "    ('regressor', LinearRegression())\n",
    "])\n",
    "\n",
    "# === Step 3: Fit and Evaluate ===\n",
    "fitted_model = {}\n",
    "model_metric = {}\n",
    "\n",
    "# Original models\n",
    "for model_name, model in models.items():\n",
    "    print(f\"--- Training {model_name} ---\")\n",
    "    model.fit(X_train, y_train)\n",
    "    fitted_model[model_name] = model\n",
    "\n",
    "    y_pred = model.predict(X_test)\n",
    "    rmse = np.sqrt(mean_squared_error(y_test, y_pred))\n",
    "    r2 = r2_score(y_test, y_pred)\n",
    "    model_metric[model_name] = {\"R2\": r2, \"RMSE\": rmse}\n",
    "\n",
    "    print(f\"RMSE: {rmse:.2f}\")\n",
    "    print(f\"R2: {r2:.4f}\\n\")\n",
    "\n",
    "# Polynomial Regression (deg=3)\n",
    "print(f\"--- Training Polynomial Regression (deg=3) ---\")\n",
    "poly3.fit(X_train, y_train)\n",
    "y_pred_poly3 = poly3.predict(X_test)\n",
    "rmse_poly3 = np.sqrt(mean_squared_error(y_test, y_pred_poly3))\n",
    "r2_poly3 = r2_score(y_test, y_pred_poly3)\n",
    "fitted_model[\"Polynomial Regression (deg=3)\"] = poly3\n",
    "model_metric[\"Polynomial Regression (deg=3)\"] = {\"R2\": r2_poly3, \"RMSE\": rmse_poly3}\n",
    "print(f\"RMSE: {rmse_poly3:.2f}\")\n",
    "print(f\"R2: {r2_poly3:.4f}\\n\")"
   ]
  },
  {
   "cell_type": "code",
   "execution_count": 23,
   "id": "a99c47ab",
   "metadata": {
    "execution": {
     "iopub.execute_input": "2025-07-01T07:55:44.366974Z",
     "iopub.status.busy": "2025-07-01T07:55:44.366610Z",
     "iopub.status.idle": "2025-07-01T07:55:44.373520Z",
     "shell.execute_reply": "2025-07-01T07:55:44.372864Z"
    },
    "papermill": {
     "duration": 0.028066,
     "end_time": "2025-07-01T07:55:44.375451",
     "exception": false,
     "start_time": "2025-07-01T07:55:44.347385",
     "status": "completed"
    },
    "tags": []
   },
   "outputs": [],
   "source": [
    "params = {\n",
    "    \"Random Forest Regressor\": {\n",
    "        'n_estimators': [50, 100],\n",
    "        'max_depth': [10, 20, None],\n",
    "        'min_samples_split': [2, 5]\n",
    "    },\n",
    "    \"XGBoost Regressor\": {\n",
    "        'n_estimators': [50, 100],\n",
    "        'learning_rate': [0.05, 0.1],\n",
    "        'max_depth': [3, 5]\n",
    "    },\n",
    "    \"LightGBM Regressor\": {\n",
    "        'n_estimators': [50],\n",
    "        'learning_rate': [0.05],\n",
    "        'num_leaves': [20]\n",
    "    }\n",
    "}"
   ]
  },
  {
   "cell_type": "code",
   "execution_count": 24,
   "id": "75a426eb",
   "metadata": {
    "execution": {
     "iopub.execute_input": "2025-07-01T07:55:44.401183Z",
     "iopub.status.busy": "2025-07-01T07:55:44.400804Z",
     "iopub.status.idle": "2025-07-01T07:57:23.837635Z",
     "shell.execute_reply": "2025-07-01T07:57:23.836730Z"
    },
    "papermill": {
     "duration": 99.459251,
     "end_time": "2025-07-01T07:57:23.848219",
     "exception": false,
     "start_time": "2025-07-01T07:55:44.388968",
     "status": "completed"
    },
    "tags": []
   },
   "outputs": [
    {
     "name": "stdout",
     "output_type": "stream",
     "text": [
      "--- Tuning Random Forest Regressor ---\n",
      "{'max_depth': None, 'min_samples_split': 2, 'n_estimators': 100}\n",
      "\n",
      "--- Tuning XGBoost Regressor ---\n",
      "{'learning_rate': 0.1, 'max_depth': 5, 'n_estimators': 100}\n",
      "\n",
      "--- Tuning LightGBM Regressor ---\n",
      "{'learning_rate': 0.05, 'n_estimators': 50, 'num_leaves': 20}\n",
      "\n"
     ]
    }
   ],
   "source": [
    "for model_name, param in params.items():\n",
    "    print(f\"--- Tuning {model_name} ---\")\n",
    "\n",
    "    model = models[model_name]\n",
    "\n",
    "    grid_search = GridSearchCV(model, param, cv=3, scoring='neg_mean_absolute_error', n_jobs=-1, verbose=0)\n",
    "    grid_search.fit(X_train, y_train)\n",
    "\n",
    "    tuned_model = grid_search.best_estimator_\n",
    "    fitted_model[model_name] = tuned_model  # replacing our old fitted model with tuned one\n",
    "\n",
    "    y_pred = tuned_model.predict(X_test)\n",
    "\n",
    "    rmse = np.sqrt(mean_squared_error(y_test, y_pred))\n",
    "    r2 = r2_score(y_test, y_pred)\n",
    "    model_metric[f\"{model_name} (tuned)\"] = {\"R2\": r2, \"RMSE\": rmse}\n",
    "\n",
    "    print(f\"{grid_search.best_params_}\\n\")"
   ]
  },
  {
   "cell_type": "code",
   "execution_count": 25,
   "id": "501df6e7",
   "metadata": {
    "execution": {
     "iopub.execute_input": "2025-07-01T07:57:23.872292Z",
     "iopub.status.busy": "2025-07-01T07:57:23.871948Z",
     "iopub.status.idle": "2025-07-01T07:57:23.883122Z",
     "shell.execute_reply": "2025-07-01T07:57:23.882348Z"
    },
    "papermill": {
     "duration": 0.02459,
     "end_time": "2025-07-01T07:57:23.884486",
     "exception": false,
     "start_time": "2025-07-01T07:57:23.859896",
     "status": "completed"
    },
    "tags": []
   },
   "outputs": [
    {
     "data": {
      "text/html": [
       "<div>\n",
       "<style scoped>\n",
       "    .dataframe tbody tr th:only-of-type {\n",
       "        vertical-align: middle;\n",
       "    }\n",
       "\n",
       "    .dataframe tbody tr th {\n",
       "        vertical-align: top;\n",
       "    }\n",
       "\n",
       "    .dataframe thead th {\n",
       "        text-align: right;\n",
       "    }\n",
       "</style>\n",
       "<table border=\"1\" class=\"dataframe\">\n",
       "  <thead>\n",
       "    <tr style=\"text-align: right;\">\n",
       "      <th></th>\n",
       "      <th>R2</th>\n",
       "      <th>RMSE</th>\n",
       "    </tr>\n",
       "  </thead>\n",
       "  <tbody>\n",
       "    <tr>\n",
       "      <th>Random Forest Regressor</th>\n",
       "      <td>0.972413</td>\n",
       "      <td>3758.755943</td>\n",
       "    </tr>\n",
       "    <tr>\n",
       "      <th>Random Forest Regressor (tuned)</th>\n",
       "      <td>0.972413</td>\n",
       "      <td>3758.755943</td>\n",
       "    </tr>\n",
       "    <tr>\n",
       "      <th>XGBoost Regressor</th>\n",
       "      <td>0.970569</td>\n",
       "      <td>3882.369750</td>\n",
       "    </tr>\n",
       "    <tr>\n",
       "      <th>LightGBM Regressor</th>\n",
       "      <td>0.964905</td>\n",
       "      <td>4239.502627</td>\n",
       "    </tr>\n",
       "    <tr>\n",
       "      <th>XGBoost Regressor (tuned)</th>\n",
       "      <td>0.959076</td>\n",
       "      <td>4578.039734</td>\n",
       "    </tr>\n",
       "    <tr>\n",
       "      <th>Decision Tree Regressor</th>\n",
       "      <td>0.953313</td>\n",
       "      <td>4889.787587</td>\n",
       "    </tr>\n",
       "    <tr>\n",
       "      <th>Gradient Boosting Regressor</th>\n",
       "      <td>0.948789</td>\n",
       "      <td>5121.204374</td>\n",
       "    </tr>\n",
       "    <tr>\n",
       "      <th>LightGBM Regressor (tuned)</th>\n",
       "      <td>0.947437</td>\n",
       "      <td>5188.383117</td>\n",
       "    </tr>\n",
       "    <tr>\n",
       "      <th>Polynomial Regression (deg=3)</th>\n",
       "      <td>0.942679</td>\n",
       "      <td>5418.113037</td>\n",
       "    </tr>\n",
       "    <tr>\n",
       "      <th>Ridge Regression</th>\n",
       "      <td>0.901685</td>\n",
       "      <td>7095.832640</td>\n",
       "    </tr>\n",
       "    <tr>\n",
       "      <th>Lasso Regression</th>\n",
       "      <td>0.901684</td>\n",
       "      <td>7095.837196</td>\n",
       "    </tr>\n",
       "    <tr>\n",
       "      <th>Linear Regression</th>\n",
       "      <td>0.901684</td>\n",
       "      <td>7095.865318</td>\n",
       "    </tr>\n",
       "  </tbody>\n",
       "</table>\n",
       "</div>"
      ],
      "text/plain": [
       "                                       R2         RMSE\n",
       "Random Forest Regressor          0.972413  3758.755943\n",
       "Random Forest Regressor (tuned)  0.972413  3758.755943\n",
       "XGBoost Regressor                0.970569  3882.369750\n",
       "LightGBM Regressor               0.964905  4239.502627\n",
       "XGBoost Regressor (tuned)        0.959076  4578.039734\n",
       "Decision Tree Regressor          0.953313  4889.787587\n",
       "Gradient Boosting Regressor      0.948789  5121.204374\n",
       "LightGBM Regressor (tuned)       0.947437  5188.383117\n",
       "Polynomial Regression (deg=3)    0.942679  5418.113037\n",
       "Ridge Regression                 0.901685  7095.832640\n",
       "Lasso Regression                 0.901684  7095.837196\n",
       "Linear Regression                0.901684  7095.865318"
      ]
     },
     "execution_count": 25,
     "metadata": {},
     "output_type": "execute_result"
    }
   ],
   "source": [
    "performance_df_train = pd.DataFrame(model_metric).T.sort_values(by='RMSE')\n",
    "performance_df_train"
   ]
  },
  {
   "cell_type": "code",
   "execution_count": 26,
   "id": "81ea5be0",
   "metadata": {
    "execution": {
     "iopub.execute_input": "2025-07-01T07:57:23.908557Z",
     "iopub.status.busy": "2025-07-01T07:57:23.908259Z",
     "iopub.status.idle": "2025-07-01T07:57:23.917590Z",
     "shell.execute_reply": "2025-07-01T07:57:23.916727Z"
    },
    "papermill": {
     "duration": 0.023538,
     "end_time": "2025-07-01T07:57:23.919131",
     "exception": false,
     "start_time": "2025-07-01T07:57:23.895593",
     "status": "completed"
    },
    "tags": []
   },
   "outputs": [
    {
     "name": "stdout",
     "output_type": "stream",
     "text": [
      "RandomForestRegressor(n_jobs=-1, random_state=42)\n"
     ]
    }
   ],
   "source": [
    "final_model = fitted_model[performance_df_train.index[0]]\n",
    "print(final_model)"
   ]
  },
  {
   "cell_type": "code",
   "execution_count": 27,
   "id": "86246f37",
   "metadata": {
    "execution": {
     "iopub.execute_input": "2025-07-01T07:57:23.942537Z",
     "iopub.status.busy": "2025-07-01T07:57:23.942230Z",
     "iopub.status.idle": "2025-07-01T07:57:23.949730Z",
     "shell.execute_reply": "2025-07-01T07:57:23.948738Z"
    },
    "papermill": {
     "duration": 0.021154,
     "end_time": "2025-07-01T07:57:23.951343",
     "exception": false,
     "start_time": "2025-07-01T07:57:23.930189",
     "status": "completed"
    },
    "tags": []
   },
   "outputs": [],
   "source": [
    "full_x = pd.concat([X_train, X_test], axis=0)\n",
    "full_y = pd.concat([y_train, y_test], axis=0)"
   ]
  },
  {
   "cell_type": "code",
   "execution_count": 28,
   "id": "3f0a030b",
   "metadata": {
    "execution": {
     "iopub.execute_input": "2025-07-01T07:57:24.043811Z",
     "iopub.status.busy": "2025-07-01T07:57:24.043431Z",
     "iopub.status.idle": "2025-07-01T07:57:28.636085Z",
     "shell.execute_reply": "2025-07-01T07:57:28.635187Z"
    },
    "papermill": {
     "duration": 4.675268,
     "end_time": "2025-07-01T07:57:28.637507",
     "exception": false,
     "start_time": "2025-07-01T07:57:23.962239",
     "status": "completed"
    },
    "tags": []
   },
   "outputs": [
    {
     "data": {
      "text/html": [
       "<style>#sk-container-id-1 {color: black;background-color: white;}#sk-container-id-1 pre{padding: 0;}#sk-container-id-1 div.sk-toggleable {background-color: white;}#sk-container-id-1 label.sk-toggleable__label {cursor: pointer;display: block;width: 100%;margin-bottom: 0;padding: 0.3em;box-sizing: border-box;text-align: center;}#sk-container-id-1 label.sk-toggleable__label-arrow:before {content: \"▸\";float: left;margin-right: 0.25em;color: #696969;}#sk-container-id-1 label.sk-toggleable__label-arrow:hover:before {color: black;}#sk-container-id-1 div.sk-estimator:hover label.sk-toggleable__label-arrow:before {color: black;}#sk-container-id-1 div.sk-toggleable__content {max-height: 0;max-width: 0;overflow: hidden;text-align: left;background-color: #f0f8ff;}#sk-container-id-1 div.sk-toggleable__content pre {margin: 0.2em;color: black;border-radius: 0.25em;background-color: #f0f8ff;}#sk-container-id-1 input.sk-toggleable__control:checked~div.sk-toggleable__content {max-height: 200px;max-width: 100%;overflow: auto;}#sk-container-id-1 input.sk-toggleable__control:checked~label.sk-toggleable__label-arrow:before {content: \"▾\";}#sk-container-id-1 div.sk-estimator input.sk-toggleable__control:checked~label.sk-toggleable__label {background-color: #d4ebff;}#sk-container-id-1 div.sk-label input.sk-toggleable__control:checked~label.sk-toggleable__label {background-color: #d4ebff;}#sk-container-id-1 input.sk-hidden--visually {border: 0;clip: rect(1px 1px 1px 1px);clip: rect(1px, 1px, 1px, 1px);height: 1px;margin: -1px;overflow: hidden;padding: 0;position: absolute;width: 1px;}#sk-container-id-1 div.sk-estimator {font-family: monospace;background-color: #f0f8ff;border: 1px dotted black;border-radius: 0.25em;box-sizing: border-box;margin-bottom: 0.5em;}#sk-container-id-1 div.sk-estimator:hover {background-color: #d4ebff;}#sk-container-id-1 div.sk-parallel-item::after {content: \"\";width: 100%;border-bottom: 1px solid gray;flex-grow: 1;}#sk-container-id-1 div.sk-label:hover label.sk-toggleable__label {background-color: #d4ebff;}#sk-container-id-1 div.sk-serial::before {content: \"\";position: absolute;border-left: 1px solid gray;box-sizing: border-box;top: 0;bottom: 0;left: 50%;z-index: 0;}#sk-container-id-1 div.sk-serial {display: flex;flex-direction: column;align-items: center;background-color: white;padding-right: 0.2em;padding-left: 0.2em;position: relative;}#sk-container-id-1 div.sk-item {position: relative;z-index: 1;}#sk-container-id-1 div.sk-parallel {display: flex;align-items: stretch;justify-content: center;background-color: white;position: relative;}#sk-container-id-1 div.sk-item::before, #sk-container-id-1 div.sk-parallel-item::before {content: \"\";position: absolute;border-left: 1px solid gray;box-sizing: border-box;top: 0;bottom: 0;left: 50%;z-index: -1;}#sk-container-id-1 div.sk-parallel-item {display: flex;flex-direction: column;z-index: 1;position: relative;background-color: white;}#sk-container-id-1 div.sk-parallel-item:first-child::after {align-self: flex-end;width: 50%;}#sk-container-id-1 div.sk-parallel-item:last-child::after {align-self: flex-start;width: 50%;}#sk-container-id-1 div.sk-parallel-item:only-child::after {width: 0;}#sk-container-id-1 div.sk-dashed-wrapped {border: 1px dashed gray;margin: 0 0.4em 0.5em 0.4em;box-sizing: border-box;padding-bottom: 0.4em;background-color: white;}#sk-container-id-1 div.sk-label label {font-family: monospace;font-weight: bold;display: inline-block;line-height: 1.2em;}#sk-container-id-1 div.sk-label-container {text-align: center;}#sk-container-id-1 div.sk-container {/* jupyter's `normalize.less` sets `[hidden] { display: none; }` but bootstrap.min.css set `[hidden] { display: none !important; }` so we also need the `!important` here to be able to override the default hidden behavior on the sphinx rendered scikit-learn.org. See: https://github.com/scikit-learn/scikit-learn/issues/21755 */display: inline-block !important;position: relative;}#sk-container-id-1 div.sk-text-repr-fallback {display: none;}</style><div id=\"sk-container-id-1\" class=\"sk-top-container\"><div class=\"sk-text-repr-fallback\"><pre>RandomForestRegressor(n_jobs=-1, random_state=42)</pre><b>In a Jupyter environment, please rerun this cell to show the HTML representation or trust the notebook. <br />On GitHub, the HTML representation is unable to render, please try loading this page with nbviewer.org.</b></div><div class=\"sk-container\" hidden><div class=\"sk-item\"><div class=\"sk-estimator sk-toggleable\"><input class=\"sk-toggleable__control sk-hidden--visually\" id=\"sk-estimator-id-1\" type=\"checkbox\" checked><label for=\"sk-estimator-id-1\" class=\"sk-toggleable__label sk-toggleable__label-arrow\">RandomForestRegressor</label><div class=\"sk-toggleable__content\"><pre>RandomForestRegressor(n_jobs=-1, random_state=42)</pre></div></div></div></div></div>"
      ],
      "text/plain": [
       "RandomForestRegressor(n_jobs=-1, random_state=42)"
      ]
     },
     "execution_count": 28,
     "metadata": {},
     "output_type": "execute_result"
    }
   ],
   "source": [
    "final_model.fit(full_x, full_y)"
   ]
  },
  {
   "cell_type": "code",
   "execution_count": 29,
   "id": "e62fc25d",
   "metadata": {
    "execution": {
     "iopub.execute_input": "2025-07-01T07:57:28.662830Z",
     "iopub.status.busy": "2025-07-01T07:57:28.662495Z",
     "iopub.status.idle": "2025-07-01T07:57:28.792916Z",
     "shell.execute_reply": "2025-07-01T07:57:28.791983Z"
    },
    "papermill": {
     "duration": 0.144811,
     "end_time": "2025-07-01T07:57:28.794558",
     "exception": false,
     "start_time": "2025-07-01T07:57:28.649747",
     "status": "completed"
    },
    "tags": []
   },
   "outputs": [],
   "source": [
    "test_pred = final_model.predict(df_test)\n",
    "test_pred = np.clip(test_pred, 0, None)"
   ]
  },
  {
   "cell_type": "code",
   "execution_count": 30,
   "id": "22a6aef0",
   "metadata": {
    "execution": {
     "iopub.execute_input": "2025-07-01T07:57:28.821377Z",
     "iopub.status.busy": "2025-07-01T07:57:28.820745Z",
     "iopub.status.idle": "2025-07-01T07:57:28.851870Z",
     "shell.execute_reply": "2025-07-01T07:57:28.850740Z"
    },
    "papermill": {
     "duration": 0.046331,
     "end_time": "2025-07-01T07:57:28.853471",
     "exception": false,
     "start_time": "2025-07-01T07:57:28.807140",
     "status": "completed"
    },
    "tags": []
   },
   "outputs": [
    {
     "data": {
      "text/html": [
       "<div>\n",
       "<style scoped>\n",
       "    .dataframe tbody tr th:only-of-type {\n",
       "        vertical-align: middle;\n",
       "    }\n",
       "\n",
       "    .dataframe tbody tr th {\n",
       "        vertical-align: top;\n",
       "    }\n",
       "\n",
       "    .dataframe thead th {\n",
       "        text-align: right;\n",
       "    }\n",
       "</style>\n",
       "<table border=\"1\" class=\"dataframe\">\n",
       "  <thead>\n",
       "    <tr style=\"text-align: right;\">\n",
       "      <th></th>\n",
       "      <th>id</th>\n",
       "      <th>price</th>\n",
       "    </tr>\n",
       "  </thead>\n",
       "  <tbody>\n",
       "    <tr>\n",
       "      <th>0</th>\n",
       "      <td>0</td>\n",
       "      <td>4678.26</td>\n",
       "    </tr>\n",
       "    <tr>\n",
       "      <th>1</th>\n",
       "      <td>1</td>\n",
       "      <td>13969.68</td>\n",
       "    </tr>\n",
       "    <tr>\n",
       "      <th>2</th>\n",
       "      <td>2</td>\n",
       "      <td>5025.36</td>\n",
       "    </tr>\n",
       "    <tr>\n",
       "      <th>3</th>\n",
       "      <td>3</td>\n",
       "      <td>59475.52</td>\n",
       "    </tr>\n",
       "    <tr>\n",
       "      <th>4</th>\n",
       "      <td>4</td>\n",
       "      <td>48415.99</td>\n",
       "    </tr>\n",
       "    <tr>\n",
       "      <th>...</th>\n",
       "      <td>...</td>\n",
       "      <td>...</td>\n",
       "    </tr>\n",
       "    <tr>\n",
       "      <th>9995</th>\n",
       "      <td>9995</td>\n",
       "      <td>4437.69</td>\n",
       "    </tr>\n",
       "    <tr>\n",
       "      <th>9996</th>\n",
       "      <td>9996</td>\n",
       "      <td>6096.09</td>\n",
       "    </tr>\n",
       "    <tr>\n",
       "      <th>9997</th>\n",
       "      <td>9997</td>\n",
       "      <td>82896.08</td>\n",
       "    </tr>\n",
       "    <tr>\n",
       "      <th>9998</th>\n",
       "      <td>9998</td>\n",
       "      <td>50371.91</td>\n",
       "    </tr>\n",
       "    <tr>\n",
       "      <th>9999</th>\n",
       "      <td>9999</td>\n",
       "      <td>60221.65</td>\n",
       "    </tr>\n",
       "  </tbody>\n",
       "</table>\n",
       "<p>10000 rows × 2 columns</p>\n",
       "</div>"
      ],
      "text/plain": [
       "        id     price\n",
       "0        0   4678.26\n",
       "1        1  13969.68\n",
       "2        2   5025.36\n",
       "3        3  59475.52\n",
       "4        4  48415.99\n",
       "...    ...       ...\n",
       "9995  9995   4437.69\n",
       "9996  9996   6096.09\n",
       "9997  9997  82896.08\n",
       "9998  9998  50371.91\n",
       "9999  9999  60221.65\n",
       "\n",
       "[10000 rows x 2 columns]"
      ]
     },
     "execution_count": 30,
     "metadata": {},
     "output_type": "execute_result"
    }
   ],
   "source": [
    "submission = pd.DataFrame({\n",
    "    \"id\": range(df_test.shape[0]),\n",
    "    \"price\": test_pred\n",
    "})\n",
    "submission.to_csv(\"submission.csv\", index=False)\n",
    "submission"
   ]
  },
  {
   "cell_type": "code",
   "execution_count": 31,
   "id": "6d624205",
   "metadata": {
    "execution": {
     "iopub.execute_input": "2025-07-01T07:57:28.882444Z",
     "iopub.status.busy": "2025-07-01T07:57:28.882095Z",
     "iopub.status.idle": "2025-07-01T07:57:28.887990Z",
     "shell.execute_reply": "2025-07-01T07:57:28.887134Z"
    },
    "papermill": {
     "duration": 0.022513,
     "end_time": "2025-07-01T07:57:28.889415",
     "exception": false,
     "start_time": "2025-07-01T07:57:28.866902",
     "status": "completed"
    },
    "tags": []
   },
   "outputs": [
    {
     "data": {
      "text/html": [
       "<a href='submission.csv' target='_blank'>submission.csv</a><br>"
      ],
      "text/plain": [
       "/kaggle/working/submission.csv"
      ]
     },
     "execution_count": 31,
     "metadata": {},
     "output_type": "execute_result"
    }
   ],
   "source": [
    "from IPython.display import FileLink\n",
    "FileLink(\"submission.csv\")"
   ]
  },
  {
   "cell_type": "code",
   "execution_count": null,
   "id": "d7099c86",
   "metadata": {
    "papermill": {
     "duration": 0.012167,
     "end_time": "2025-07-01T07:57:28.914574",
     "exception": false,
     "start_time": "2025-07-01T07:57:28.902407",
     "status": "completed"
    },
    "tags": []
   },
   "outputs": [],
   "source": []
  }
 ],
 "metadata": {
  "kaggle": {
   "accelerator": "none",
   "dataSources": [
    {
     "databundleVersionId": 12770423,
     "sourceId": 105665,
     "sourceType": "competition"
    }
   ],
   "dockerImageVersionId": 31040,
   "isGpuEnabled": false,
   "isInternetEnabled": true,
   "language": "python",
   "sourceType": "notebook"
  },
  "kernelspec": {
   "display_name": "Python 3",
   "language": "python",
   "name": "python3"
  },
  "language_info": {
   "codemirror_mode": {
    "name": "ipython",
    "version": 3
   },
   "file_extension": ".py",
   "mimetype": "text/x-python",
   "name": "python",
   "nbconvert_exporter": "python",
   "pygments_lexer": "ipython3",
   "version": "3.11.11"
  },
  "papermill": {
   "default_parameters": {},
   "duration": 148.274321,
   "end_time": "2025-07-01T07:57:31.547966",
   "environment_variables": {},
   "exception": null,
   "input_path": "__notebook__.ipynb",
   "output_path": "__notebook__.ipynb",
   "parameters": {},
   "start_time": "2025-07-01T07:55:03.273645",
   "version": "2.6.0"
  }
 },
 "nbformat": 4,
 "nbformat_minor": 5
}
